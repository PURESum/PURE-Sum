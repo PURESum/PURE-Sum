{
 "cells": [
  {
   "cell_type": "code",
   "execution_count": 5,
   "metadata": {},
   "outputs": [],
   "source": [
    "import csv\n",
    "import time\n",
    "import pandas as pd\n",
    "from konlpy.tag import Kkma"
   ]
  },
  {
   "cell_type": "code",
   "execution_count": 6,
   "metadata": {},
   "outputs": [],
   "source": [
    "DATA_IN_PATH = './data_in/'\n",
    "train_file = DATA_IN_PATH + 'test.txt'\n",
    "train_data = pd.read_csv(train_file, header=0, delimiter='\\t', quoting=csv.QUOTE_NONE)"
   ]
  },
  {
   "cell_type": "code",
   "execution_count": 7,
   "metadata": {},
   "outputs": [
    {
     "data": {
      "text/plain": [
       "0          너무기대안하고갔나재밌게봤다\n",
       "1         굉장히잘만든수작지루할틈이없음\n",
       "2    ㄱㅐOOO같은영화 뭐가무섭다는건지ㅡㅡ\n",
       "Name: document, dtype: object"
      ]
     },
     "execution_count": 7,
     "metadata": {},
     "output_type": "execute_result"
    }
   ],
   "source": [
    "train_data['document'][:3]"
   ]
  },
  {
   "cell_type": "code",
   "execution_count": 8,
   "metadata": {
    "scrolled": true
   },
   "outputs": [
    {
     "name": "stdout",
     "output_type": "stream",
     "text": [
      "너무기대안하고갔나재밌게봤다\n",
      "[('너무', 'MAG'), ('기대', 'NNG'), ('안', 'NNG'), ('하', 'XSV'), ('고', 'ECE'), ('가', 'VV'), ('었', 'EPT'), ('나', 'EFQ'), ('재밌', 'VA'), ('게', 'ECD'), ('보', 'VXV'), ('았', 'EPT'), ('다', 'EFN')]\n",
      "\n",
      "굉장히잘만든수작지루할틈이없음\n",
      "[('굉장히', 'MAG'), ('잘', 'MAG'), ('만들', 'VV'), ('ㄴ', 'ETD'), ('수작', 'NNG'), ('지루', 'XR'), ('하', 'XSA'), ('ㄹ', 'ETD'), ('틈', 'NNG'), ('이', 'JKS'), ('없', 'VA'), ('음', 'ETN')]\n",
      "\n",
      "ㄱㅐOOO같은영화 뭐가무섭다는건지ㅡㅡ\n",
      "[('ㄱ', 'NNG'), ('ㅐ', 'UN'), ('OOO', 'OL'), ('같', 'VA'), ('은', 'ETD'), ('영화', 'NNG'), ('뭐', 'NP'), ('가', 'JKS'), ('무섭', 'VA'), ('다는', 'ETD'), ('것', 'NNB'), ('이', 'VCP'), ('ㄴ지', 'ECS'), ('ㅡㅡ', 'EMO')]\n",
      "\n",
      "Kkma 실행 시간 :  7.259168863296509 초\n"
     ]
    },
    {
     "name": "stderr",
     "output_type": "stream",
     "text": [
      "/Library/Frameworks/Python.framework/Versions/3.7/lib/python3.7/site-packages/ipykernel_launcher.py:5: SettingWithCopyWarning: \n",
      "A value is trying to be set on a copy of a slice from a DataFrame\n",
      "\n",
      "See the caveats in the documentation: http://pandas.pydata.org/pandas-docs/stable/user_guide/indexing.html#returning-a-view-versus-a-copy\n",
      "  \"\"\"\n"
     ]
    }
   ],
   "source": [
    "kkma = Kkma()\n",
    "start = time.time()\n",
    "for i in range(0,3):\n",
    "    print(train_data['document'][i])\n",
    "    train_data['document'][i] = kkma.pos(train_data['document'][i])\n",
    "    print(train_data['document'][i])\n",
    "    print('')\n",
    "print(\"Kkma 실행 시간 : \", time.time() - start , \"초\")"
   ]
  }
 ],
 "metadata": {
  "kernelspec": {
   "display_name": "Python 3",
   "language": "python",
   "name": "python3"
  },
  "language_info": {
   "codemirror_mode": {
    "name": "ipython",
    "version": 3
   },
   "file_extension": ".py",
   "mimetype": "text/x-python",
   "name": "python",
   "nbconvert_exporter": "python",
   "pygments_lexer": "ipython3",
   "version": "3.7.2"
  }
 },
 "nbformat": 4,
 "nbformat_minor": 2
}
