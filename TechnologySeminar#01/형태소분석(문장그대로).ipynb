{
 "cells": [
  {
   "cell_type": "code",
   "execution_count": 10,
   "metadata": {},
   "outputs": [],
   "source": [
    "import re\n",
    "import csv\n",
    "import json\n",
    "import time\n",
    "import numpy as np\n",
    "import pandas as pd\n",
    "import tensorflow as tf\n",
    "from konlpy.tag import Okt"
   ]
  },
  {
   "cell_type": "code",
   "execution_count": 11,
   "metadata": {},
   "outputs": [],
   "source": [
    "DATA_IN_PATH = './data_in/'\n",
    "train_file = DATA_IN_PATH + '01.1.NoWordSpacing.txt'\n",
    "train_data = pd.read_csv(train_file, header=0, delimiter='\\t', quoting=csv.QUOTE_NONE)"
   ]
  },
  {
   "cell_type": "code",
   "execution_count": 12,
   "metadata": {},
   "outputs": [
    {
     "data": {
      "text/plain": [
       "0    여자주인공이이해가안됐다남자여자순수한사람여자는양심때문에죽음\n",
       "1       툭툭끊기는재미와어울리지않는대사로멋있게보일라는오도방정\n",
       "2                     너무기대안하고갔나재밌게봤다\n",
       "Name: document, dtype: object"
      ]
     },
     "execution_count": 12,
     "metadata": {},
     "output_type": "execute_result"
    }
   ],
   "source": [
    "train_data['document'][:3]"
   ]
  },
  {
   "cell_type": "code",
   "execution_count": 13,
   "metadata": {},
   "outputs": [
    {
     "name": "stdout",
     "output_type": "stream",
     "text": [
      "여자주인공이이해가안됐다남자여자순수한사람여자는양심때문에죽음\n",
      "['여자', '주인공', '이이해', '가안', '돼다', '남자', '여자', '순수하다', '사람', '여자', '는', '양심', '때문', '에', '죽음']\n",
      "\n",
      "툭툭끊기는재미와어울리지않는대사로멋있게보일라는오도방정\n",
      "['툭툭', '끊기다', '재미', '와', '어울리다', '않다', '대사', '로', '멋있다', '보이다', '오도방정']\n",
      "\n",
      "너무기대안하고갔나재밌게봤다\n",
      "['너', '무기', '대안', '하고', '가다', '재밌다', '보다']\n",
      "\n",
      "Okt 실행 시간 :  0.11252784729003906 초\n"
     ]
    },
    {
     "name": "stderr",
     "output_type": "stream",
     "text": [
      "/Library/Frameworks/Python.framework/Versions/3.7/lib/python3.7/site-packages/ipykernel_launcher.py:5: SettingWithCopyWarning: \n",
      "A value is trying to be set on a copy of a slice from a DataFrame\n",
      "\n",
      "See the caveats in the documentation: http://pandas.pydata.org/pandas-docs/stable/user_guide/indexing.html#returning-a-view-versus-a-copy\n",
      "  \"\"\"\n"
     ]
    }
   ],
   "source": [
    "okt = Okt()\n",
    "start = time.time()\n",
    "for i in range(0,3):\n",
    "    print(train_data['document'][i])\n",
    "    train_data['document'][i] = okt.morphs(train_data['document'][i], stem=True)\n",
    "    print(train_data['document'][i])\n",
    "    print('')\n",
    "print(\"Okt 실행 시간 : \", time.time() - start , \"초\")"
   ]
  }
 ],
 "metadata": {
  "kernelspec": {
   "display_name": "Python 3",
   "language": "python",
   "name": "python3"
  },
  "language_info": {
   "codemirror_mode": {
    "name": "ipython",
    "version": 3
   },
   "file_extension": ".py",
   "mimetype": "text/x-python",
   "name": "python",
   "nbconvert_exporter": "python",
   "pygments_lexer": "ipython3",
   "version": "3.7.2"
  }
 },
 "nbformat": 4,
 "nbformat_minor": 2
}
