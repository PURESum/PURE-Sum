{
 "cells": [
  {
   "cell_type": "code",
   "execution_count": 1,
   "metadata": {},
   "outputs": [],
   "source": [
    "import re\n",
    "import csv\n",
    "import json\n",
    "import time\n",
    "import numpy as np\n",
    "import pandas as pd\n",
    "import tensorflow as tf\n",
    "from konlpy.tag import Okt"
   ]
  },
  {
   "cell_type": "code",
   "execution_count": 2,
   "metadata": {},
   "outputs": [],
   "source": [
    "DATA_IN_PATH = './data_in/'\n",
    "train_file = DATA_IN_PATH + 'test.txt'\n",
    "train_data = pd.read_csv(train_file, header=0, delimiter='\\t', quoting=csv.QUOTE_NONE)"
   ]
  },
  {
   "cell_type": "code",
   "execution_count": 5,
   "metadata": {},
   "outputs": [],
   "source": [
    "def preprocessing(review, okt, remove_stopwords=False, stop_words=[]):\n",
    "    review_text = re.sub('[^가-힣ㄱ-ㅎㅏ-ㅣ\\\\s]', '', review)\n",
    "    word_review = okt.morphs(review_text, stem=True)\n",
    "    \n",
    "    if remove_stopwords:\n",
    "        word_review = [token for token in word_review \n",
    "                       if not token in stop_words]\n",
    "        \n",
    "    return word_review"
   ]
  },
  {
   "cell_type": "code",
   "execution_count": 10,
   "metadata": {},
   "outputs": [
    {
     "name": "stdout",
     "output_type": "stream",
     "text": [
      "['너', '무기', '대안', '하고', '가다', '재밌다', '보다']\n",
      "['굉장하다', '잘만', '든', '수작', '지루하다', '틈', '없다']\n",
      "['ㄱㅐ', '같다', '영화', '뭐', '무섭다', '건지다', 'ㅡㅡ']\n",
      "['ㄴㅓ', '무', '하다', '무슨', '유치', '찬란', '오글거리다', '보다']\n",
      "['개봉', '하다', '때', '부터', '지금', '까지', '마음', '답답하다', '힘들다', '때', '이영화', '보다', '그때', '마다', '심', '적', '인', '위로', '를', '받다', '영화', '같다', '장면', '하나', '하나', '너무', '예쁘다', '마음', '에', '남아', '서', '진하다', '여운', '까지', '주다', '영화', '감사하다']\n",
      "Okt 실행 시간 :  0.361020565032959 초\n"
     ]
    }
   ],
   "source": [
    "stop_words = set(['은','는','이','가','하','아','것','들','의','있','되','수','보','주','등','한'])\n",
    "okt = Okt()\n",
    "\n",
    "clean_test_review = []\n",
    "i = 0\n",
    "for review in train_data['document']:\n",
    "    start = time.time()\n",
    "    if type(review) == str:\n",
    "        clean_test_review.append(preprocessing(review, \n",
    "                    okt, remove_stopwords=True, stop_words=stop_words))\n",
    "    else:\n",
    "        clean_test_review.append([])\n",
    "    print(clean_test_review[i])\n",
    "    i += 1\n",
    "print(\"Okt 실행 시간 : \", time.time() - start, '초')\n"
   ]
  }
 ],
 "metadata": {
  "kernelspec": {
   "display_name": "Python 3",
   "language": "python",
   "name": "python3"
  },
  "language_info": {
   "codemirror_mode": {
    "name": "ipython",
    "version": 3
   },
   "file_extension": ".py",
   "mimetype": "text/x-python",
   "name": "python",
   "nbconvert_exporter": "python",
   "pygments_lexer": "ipython3",
   "version": "3.7.2"
  }
 },
 "nbformat": 4,
 "nbformat_minor": 2
}
