{
 "cells": [
  {
   "cell_type": "markdown",
   "metadata": {},
   "source": [
    "# KoNLPy, nltk, Keras를 이용한 한국어 영화 리뷰의 감정 분석"
   ]
  },
  {
   "cell_type": "code",
   "execution_count": null,
   "metadata": {},
   "outputs": [],
   "source": [
    "'''\n",
    "다양한 임베딩 함수\n",
    "다양한 모델\n",
    "전처리에서 공백\n",
    "'''"
   ]
  },
  {
   "cell_type": "code",
   "execution_count": 1,
   "metadata": {},
   "outputs": [],
   "source": [
    "import time\n",
    "from time import strftime\n",
    "import re"
   ]
  },
  {
   "cell_type": "markdown",
   "metadata": {},
   "source": [
    "## 데이터 불러오기"
   ]
  },
  {
   "cell_type": "code",
   "execution_count": 14,
   "metadata": {},
   "outputs": [],
   "source": [
    "def read_data(filename):\n",
    "    with open(filename, 'r', encoding='utf-8') as f:\n",
    "        data = [line.split('\\t') for line in f.read().splitlines()]\n",
    "        # txt 파일의 헤더(id document label)는 제외하기\n",
    "        data = data[1:]\n",
    "    return data\n",
    "\n",
    "# nsmc(Naver sentiment movie corpus) 데이터 불러오기\n",
    "train_data = read_data('data_in/ratings_train.txt')\n",
    "test_data  = read_data('data_in/ratings_test.txt')\n",
    "\n",
    "for i in range(0,150000):\n",
    "    train_data[i][1] = re.sub('[^ㄱ-ㅎㅏ-ㅣ가-힣]','',train_data[i][1])\n",
    "    \n",
    "for i in range(0,50000):\n",
    "    test_data[i][1] = re.sub('[^ㄱ-ㅎㅏ-ㅣ가-힣]','',test_data[i][1])"
   ]
  },
  {
   "cell_type": "code",
   "execution_count": 15,
   "metadata": {},
   "outputs": [
    {
     "data": {
      "text/plain": [
       "['9619869', '한국영화최초로수간하는내용이담긴영화', '0']"
      ]
     },
     "execution_count": 15,
     "metadata": {},
     "output_type": "execute_result"
    }
   ],
   "source": [
    "# 훈련 데이터 확인\n",
    "\n",
    "train_data[-1]"
   ]
  },
  {
   "cell_type": "code",
   "execution_count": 16,
   "metadata": {},
   "outputs": [
    {
     "data": {
      "text/plain": [
       "[['6270596', '굳ㅋ', '1'],\n",
       " ['9274899', '', '0'],\n",
       " ['8544678', '뭐야이평점들은나쁘진않지만점짜리는더더욱아니잖아', '0'],\n",
       " ['6825595', '지루하지는않은데완전막장임돈주고보기에는', '0'],\n",
       " ['6723715', '만아니었어도별다섯개줬을텐데왜로나와서제심기를불편하게하죠', '0']]"
      ]
     },
     "execution_count": 16,
     "metadata": {},
     "output_type": "execute_result"
    }
   ],
   "source": [
    "# 테스트 데이터 확인\n",
    "\n",
    "test_data[0:5]"
   ]
  },
  {
   "cell_type": "code",
   "execution_count": 17,
   "metadata": {},
   "outputs": [
    {
     "name": "stdout",
     "output_type": "stream",
     "text": [
      "150000\n"
     ]
    }
   ],
   "source": [
    "#  훈련 데이터 건수 확인\n",
    "\n",
    "print(len(train_data))"
   ]
  },
  {
   "cell_type": "code",
   "execution_count": 18,
   "metadata": {},
   "outputs": [
    {
     "name": "stdout",
     "output_type": "stream",
     "text": [
      "3\n"
     ]
    }
   ],
   "source": [
    "# 훈련 데이터 첫 번째 행 갯수 확인\n",
    "\n",
    "print(len(train_data[0]))"
   ]
  },
  {
   "cell_type": "code",
   "execution_count": 19,
   "metadata": {},
   "outputs": [
    {
     "name": "stdout",
     "output_type": "stream",
     "text": [
      "50000\n"
     ]
    }
   ],
   "source": [
    "# 테스트 데이터 건수 확인\n",
    "\n",
    "print(len(test_data))"
   ]
  },
  {
   "cell_type": "code",
   "execution_count": 20,
   "metadata": {},
   "outputs": [
    {
     "name": "stdout",
     "output_type": "stream",
     "text": [
      "3\n"
     ]
    }
   ],
   "source": [
    "# 훈련 데이터 첫 번째 행 컬럼 갯수 확인\n",
    "\n",
    "print(len(test_data[0]))"
   ]
  },
  {
   "cell_type": "markdown",
   "metadata": {},
   "source": [
    "## 데이터 전처리"
   ]
  },
  {
   "cell_type": "code",
   "execution_count": 21,
   "metadata": {},
   "outputs": [],
   "source": [
    "# KoNLPy 라이브러리를 이용해서 형태소 분석 및 품사 태깅을 위해 형태소 분석 라이브러리를 불러옴.\n",
    "from konlpy.tag import Okt\n",
    "\n",
    "# 네이버 영화 데이터에는 맞춤법이나 띄어쓰기가 제대로 되어있지 않은 경우가 있기 때문에 정확한 분류를 위해서 KoNLPy를 이용함.\n",
    "# 형태소란 의미를 가지는 가장 작은 단위로서 더 쪼개지면 의미를 상실하는 것들을 말함."
   ]
  },
  {
   "cell_type": "code",
   "execution_count": 22,
   "metadata": {},
   "outputs": [
    {
     "name": "stderr",
     "output_type": "stream",
     "text": [
      "C:\\ProgramData\\Anaconda3\\lib\\site-packages\\jpype\\_core.py:210: UserWarning: \n",
      "-------------------------------------------------------------------------------\n",
      "Deprecated: convertStrings was not specified when starting the JVM. The default\n",
      "behavior in JPype will be False starting in JPype 0.8. The recommended setting\n",
      "for new code is convertStrings=False.  The legacy value of True was assumed for\n",
      "this session. If you are a user of an application that reported this warning,\n",
      "please file a ticket with the developer.\n",
      "-------------------------------------------------------------------------------\n",
      "\n",
      "  \"\"\")\n"
     ]
    }
   ],
   "source": [
    "# Okt 객체 생성\n",
    "\n",
    "okt = Okt()"
   ]
  },
  {
   "cell_type": "code",
   "execution_count": 23,
   "metadata": {
    "scrolled": true
   },
   "outputs": [
    {
     "name": "stdout",
     "output_type": "stream",
     "text": [
      "[('잊혀질', 'Verb'), ('만큼만', 'Josa'), ('괜찮을', 'Adjective'), ('만큼만', 'Josa'), ('눈물', 'Noun'), ('머', 'Noun'), ('금고', 'Noun'), ('기다린', 'Verb'), ('떨림', 'Verb'), ('끝', 'Noun'), ('에', 'Josa'), ('다시', 'Noun'), ('나를', 'Verb'), ('피우리라', 'Verb')]\n"
     ]
    }
   ],
   "source": [
    "# pos 함수: 품사 태깅을 하는 함수\n",
    "# Noun: 명사, Josa: 조사, Verb: 동사\n",
    "\n",
    "print(okt.pos('잊혀질 만큼만 괜찮을 만큼만 눈물 머금고 기다린 떨림 끝에 다시 나를 피우리라'))"
   ]
  },
  {
   "cell_type": "code",
   "execution_count": 24,
   "metadata": {},
   "outputs": [],
   "source": [
    "stopwords=['아,','의','가','이','은','들','는','좀','잘','걍','을','과','도','를','으로','자','에','와','한','하다']"
   ]
  },
  {
   "cell_type": "code",
   "execution_count": null,
   "metadata": {},
   "outputs": [],
   "source": [
    "# 데이터 형태소 분석을 통해서 품사를 태깅해주는 작업을 하여 json 파일로 저장\n",
    "\n",
    "import json\n",
    "import os\n",
    "from pprint import pprint\n",
    "\n",
    "def tokenize(doc):\n",
    "    # norm은 정규화, stem은 근어로 표시하기를 나타냄\n",
    "    return [\"\".join(t) for t in okt.morphs(doc, norm=True, stem=True) if not t in stopwords]\n",
    "\n",
    "if os.path.isfile('train_docs.json'):\n",
    "    with open('train_docs.json', encoding=\"utf-8\") as f:\n",
    "        train_docs = json.load(f)\n",
    "    with open('test_docs.json', encoding=\"utf-8\") as f:\n",
    "        test_docs  = json.load(f)\n",
    "else:\n",
    "    train_docs = [(tokenize(row[1]), row[2]) for row in train_data]\n",
    "    test_docs = [(tokenize(row[1]), row[2]) for row in test_data]\n",
    "    # JSON 파일로 저장\n",
    "    with open('train_docs.json', 'w', encoding=\"utf-8\") as make_file:\n",
    "        json.dump(train_docs, make_file, ensure_ascii=False, indent=\"\\t\")\n",
    "    with open('test_docs.json', 'w', encoding=\"utf-8\") as make_file:\n",
    "        json.dump(test_docs, make_file, ensure_ascii=False, indent=\"\\t\")"
   ]
  },
  {
   "cell_type": "code",
   "execution_count": null,
   "metadata": {},
   "outputs": [],
   "source": [
    "# 보기좋게 출력하기 위해서 pprint 라이브러리 사용\n",
    "\n",
    "pprint(train_docs[0])"
   ]
  },
  {
   "cell_type": "code",
   "execution_count": null,
   "metadata": {},
   "outputs": [],
   "source": [
    "# 분석한 데이터의 토큰(문자열을 분석을 위한 작은 단위)의 갯수를 확인해 봄.\n",
    "# 토큰은 단어 하나\n",
    "\n",
    "tokens = [t for d in train_docs for t in d[0]]\n",
    "\n",
    "print(len(tokens))\n",
    "print(tokens[0])"
   ]
  },
  {
   "cell_type": "code",
   "execution_count": 87,
   "metadata": {},
   "outputs": [],
   "source": [
    "# nltk 라이브러리를 통해서 전처리 함. Text 클래스는 문서를 편리하게 탐색할 수 있는 다양한 기능을 제공함.\n",
    "import nltk\n",
    "\n",
    "text = nltk.Text(tokens, name='NMSC')"
   ]
  },
  {
   "cell_type": "code",
   "execution_count": 88,
   "metadata": {},
   "outputs": [
    {
     "name": "stdout",
     "output_type": "stream",
     "text": [
      "1847800\n"
     ]
    }
   ],
   "source": [
    "# 전체 토큰의 개수\n",
    "\n",
    "print(len(text.tokens))"
   ]
  },
  {
   "cell_type": "code",
   "execution_count": 89,
   "metadata": {},
   "outputs": [
    {
     "name": "stdout",
     "output_type": "stream",
     "text": [
      "49290\n"
     ]
    }
   ],
   "source": [
    "# 중복을 제외한 토큰의 개수\n",
    "\n",
    "print(len(set(text.tokens)))"
   ]
  },
  {
   "cell_type": "code",
   "execution_count": 90,
   "metadata": {},
   "outputs": [
    {
     "name": "stdout",
     "output_type": "stream",
     "text": [
      "[('.', 67784),\n",
      " ('영화', 50818),\n",
      " ('보다', 41217),\n",
      " ('..', 29058),\n",
      " ('을', 23260),\n",
      " ('...', 22801),\n",
      " (',', 17644),\n",
      " ('없다', 15635),\n",
      " ('이다', 13231),\n",
      " ('있다', 12496)]\n"
     ]
    }
   ],
   "source": [
    "# 출현 빈도가 높은 상위 토큰 10개\n",
    "# vocab().most_common() 메서드를 이용해서 데이터에서 가장 자주 사용되는 단어를 가져올 때 사용\n",
    "\n",
    "pprint(text.vocab().most_common(10))"
   ]
  },
  {
   "cell_type": "code",
   "execution_count": null,
   "metadata": {
    "scrolled": true
   },
   "outputs": [],
   "source": [
    "# 자주 나오는 단어 50개를 matplotlib 라이브러리를 통해서 그래프로 나타냄\n",
    "\n",
    "import matplotlib.pyplot as plt\n",
    "from matplotlib import font_manager, rc\n",
    "%matplotlib inline\n",
    "\n",
    "font_fname = 'data_in/NanumGothic.ttf'       # 한글이 깨지지 않도록 한글 폰트 로드\n",
    "font_name = font_manager.FontProperties(fname=font_fname).get_name()\n",
    "rc('font', family=font_name)\n",
    "\n",
    "plt.figure(figsize=(20,10))\n",
    "text.plot(50)"
   ]
  },
  {
   "cell_type": "code",
   "execution_count": 92,
   "metadata": {},
   "outputs": [
    {
     "name": "stdout",
     "output_type": "stream",
     "text": [
      "191204-203041\n",
      "start time :  1575459041.952131\n"
     ]
    }
   ],
   "source": [
    "start_time = time.time()   # 현재 시간 저장\n",
    "now = strftime(\"%y%m%d-%H%M%S\")   # 년월일-시분초 형식으로 now에 저장\n",
    "\n",
    "print(now)\n",
    "print('start time : ', start_time)"
   ]
  },
  {
   "cell_type": "code",
   "execution_count": null,
   "metadata": {},
   "outputs": [],
   "source": [
    "# 자주 사용하는 토큰 10,000개를 사용해서 데이터를 벡터화 시킴\n",
    "\n",
    "# 시간이 꽤 걸림! 시간을 절약하고 싶으면 most_common의 매개변수를 줄여볼 수 있음.\n",
    "selected_words = [f[0] for f in text.vocab().most_common(10000)]\n",
    "\n",
    "def term_frequency(doc):\n",
    "    return [doc.count(word) for word in selected_words]\n",
    "\n",
    "train_x = [term_frequency(d) for d, _ in train_docs]\n",
    "test_x = [term_frequency(d) for d, _ in test_docs]\n",
    "train_y = [c for _, c in train_docs]\n",
    "test_y = [c for _, c in test_docs]"
   ]
  },
  {
   "cell_type": "code",
   "execution_count": 68,
   "metadata": {},
   "outputs": [],
   "source": [
    "# 데이터를 float으로 형 변환 시키면 전처리 과정은 끝남. \n",
    "\n",
    "import numpy as np\n",
    "\n",
    "x_train = np.asarray(train_x).astype(float32)\n",
    "x_test  = np.asarray(test_x).astype(float32)\n",
    "\n",
    "y_train = np.asarray(train_y).astype(float32)\n",
    "y_test  = np.asarray(test_y).astype(float32)"
   ]
  },
  {
   "cell_type": "code",
   "execution_count": 69,
   "metadata": {
    "scrolled": true
   },
   "outputs": [
    {
     "name": "stdout",
     "output_type": "stream",
     "text": [
      "4.777514219284058 seconds\n",
      "191204-201005\n",
      "finish time :  1575457805.861966\n"
     ]
    }
   ],
   "source": [
    "print(time.time()-start_time, 'seconds')   # 코드 수행시간 출력\n",
    "\n",
    "now = strftime(\"%y%m%d-%H%M%S\")\n",
    "finish_time = time.time()\n",
    "\n",
    "print(now)\n",
    "print('finish time : ', finish_time)"
   ]
  },
  {
   "cell_type": "code",
   "execution_count": 70,
   "metadata": {},
   "outputs": [
    {
     "name": "stdout",
     "output_type": "stream",
     "text": [
      "['.', '영화', '..', '보다', '이다', '!', '없다', '...', '있다', '재밌다', ',', '?', '나오다', '하고', '정말', '다', '을', '것', '안', '-', '진짜', '연기', 'ㅋㅋㅋ', '만', '사람', '점', '평점', '드라마', '왜', '고', '좋다', '인', '내', '완전', '최고', '아', '....', '재미', '그', '에서', '보이다', '별', '아깝다', '감동', '되다', '아니다', 'ㅋㅋ', '재미있다', '내용', '싶다', '속', '냐', '보고', '줄', '않다', '움', '기', '이렇게', '너무', '~', '임', '끄다', '그냥', '자다', '저', '놈', '절대', '듯', '지루하다', '같다', '음식', '게', '평범하다', '그래서', '그렇다', '시간', 'ㅇ', '또', '멋지다', '조금', '^^', '전개', '갈등', '뭐', '아햏햏', '흠', '포스터', '너', '이야기', '너무나도', '이쁘다', '세', '부터', '8', '반개', '원작', '욕', '몇', '로', '그것']\n"
     ]
    }
   ],
   "source": [
    "print(selected_words)"
   ]
  },
  {
   "cell_type": "markdown",
   "metadata": {},
   "source": [
    "## 모델 정의 및 학습하기"
   ]
  },
  {
   "cell_type": "code",
   "execution_count": 71,
   "metadata": {},
   "outputs": [
    {
     "name": "stdout",
     "output_type": "stream",
     "text": [
      "Train on 100 samples\n",
      "Epoch 1/10\n",
      "100/100 [==============================] - 0s 5ms/sample - loss: 0.6921 - binary_accuracy: 0.5600\n",
      "Epoch 2/10\n",
      "100/100 [==============================] - 0s 20us/sample - loss: 0.6658 - binary_accuracy: 0.6100\n",
      "Epoch 3/10\n",
      "100/100 [==============================] - 0s 20us/sample - loss: 0.6483 - binary_accuracy: 0.6400\n",
      "Epoch 4/10\n",
      "100/100 [==============================] - 0s 20us/sample - loss: 0.6334 - binary_accuracy: 0.6600\n",
      "Epoch 5/10\n",
      "100/100 [==============================] - 0s 20us/sample - loss: 0.6199 - binary_accuracy: 0.6800\n",
      "Epoch 6/10\n",
      "100/100 [==============================] - 0s 20us/sample - loss: 0.6071 - binary_accuracy: 0.7200\n",
      "Epoch 7/10\n",
      "100/100 [==============================] - 0s 10us/sample - loss: 0.5948 - binary_accuracy: 0.7600\n",
      "Epoch 8/10\n",
      "100/100 [==============================] - 0s 20us/sample - loss: 0.5830 - binary_accuracy: 0.7900\n",
      "Epoch 9/10\n",
      "100/100 [==============================] - 0s 30us/sample - loss: 0.5714 - binary_accuracy: 0.8000\n",
      "Epoch 10/10\n",
      "100/100 [==============================] - 0s 20us/sample - loss: 0.5597 - binary_accuracy: 0.8200\n"
     ]
    },
    {
     "data": {
      "image/png": "[encoded data removed]",
      "text/plain": [
       "<Figure size 1440x720 with 1 Axes>"
      ]
     },
     "metadata": {
      "needs_background": "light"
     },
     "output_type": "display_data"
    },
    {
     "name": "stdout",
     "output_type": "stream",
     "text": [
      "\r",
      "100/1 [========================================================================================================================================================================================================================================================================================================================================================================================================================================================================================================================================================================================================================================================================================================================================================================================================================================================================================================================================================================================================================================================================================================================================================================================================================================================================================================================================================================================================================================================================================================================================================================================================================================================================================================================================================================================================================================================================================================================================================================================================================================================================================================================================================================================================================================================================================================================================================================================================================================================================================================================================================================================================================================================================================================================================================================================================================================================================================================================================================================================================================================================================================================================] - 0s 680us/sample - loss: 0.6318 - binary_accuracy: 0.5700\n"
     ]
    }
   ],
   "source": [
    "# Deep Multilayer Perceptron Neural Network Model( 깊은 다층퍼셉트론 신경망 모델 ) 적용\n",
    "\n",
    "from tensorflow.keras import models\n",
    "from tensorflow.keras import layers\n",
    "from tensorflow.keras import optimizers\n",
    "from tensorflow.keras import losses\n",
    "from tensorflow.keras import metrics\n",
    "\n",
    "\n",
    "# 케라스의 Sequential 모델을 사용함\n",
    "# Dense 층은 64개의 유닛을 가지고 활성화 함수로는 relu(은닉 층으로 학습)를 사용했으며, \n",
    "# 마지막 층은 sigmoid(이진분류 문제) 활성화 함수를 사용해서 긍정의 리뷰일 확률을 출력함.\n",
    "\n",
    "model = models.Sequential()\n",
    "model.add(layers.Dense(64, activation='relu', input_shape=(10000,)))\n",
    "model.add(layers.Dense(64, activation='relu'))\n",
    "model.add(layers.Dense(1, activation='sigmoid'))\n",
    "\n",
    "\n",
    "# 손실 함수로는 binary_crossentropy를 사용했고, RMSProp 옵티마이저를 통해서 경사하강법을 진행함.\n",
    "\n",
    "model.compile(optimizer=optimizers.RMSprop(lr=0.001),\n",
    "              loss=losses.binary_crossentropy,\n",
    "              metrics=[metrics.binary_accuracy])\n",
    "\n",
    "\n",
    "# 배치 사이즈를 512로, 에포크를 10번으로 학습시킴\n",
    "\n",
    "hist = model.fit(x_train, y_train, epochs=10, batch_size=512)\n",
    "\n",
    "\n",
    "# 학습과정 살펴봄\n",
    "\n",
    "plt.figure(figsize=(20,10))\n",
    "plt.plot(hist.history['loss'])\n",
    "plt.ylim(0.0, 1.5)\n",
    "plt.ylabel('loss')\n",
    "plt.xlabel('epoch')\n",
    "plt.legend(['train'], loc='upper left')\n",
    "plt.show()\n",
    "\n",
    "\n",
    "results = model.evaluate(x_test, y_test)"
   ]
  },
  {
   "cell_type": "code",
   "execution_count": 72,
   "metadata": {},
   "outputs": [
    {
     "data": {
      "text/plain": [
       "[0.6856485581398011, 0.57]"
      ]
     },
     "execution_count": 72,
     "metadata": {},
     "output_type": "execute_result"
    }
   ],
   "source": [
    "# 테스트 데이터로 확인해 본 결과를 출력해 보면 85%의 성능을 보여줌.\n",
    "\n",
    "results"
   ]
  },
  {
   "cell_type": "markdown",
   "metadata": {},
   "source": [
    "## 새로운 데이터로 결과 예측하기"
   ]
  },
  {
   "cell_type": "code",
   "execution_count": 26,
   "metadata": {},
   "outputs": [],
   "source": [
    "# 문자열 형태의 새로운 데이터를 받아와서 바로 결과를 예측하는 함수.\n",
    "# 데이터의 형태를 맞춰주기 위해서 np.expand_dims 메서드를 이용해 array의 축을 확장시킴.\n",
    "\n",
    "def predict_pos_neg(review):\n",
    "    token = tokenize(review)\n",
    "    tf = term_frequency(token)\n",
    "    data = np.expand_dims(np.asarray(tf).astype('float32'), axis=0)\n",
    "    score = float(model.predict(data))\n",
    "    \n",
    "    # 최종 확률이 0.5 보다 크면 긍정이고, 그렇지 않으면 부정이라고 예측함.\n",
    "    if(score > 0.5):\n",
    "        print(\"[{}]는 {:.2f}% 확률로 긍정 리뷰이지 않을까 추측해 봅니다.^^\\n\".format(review, score * 100))\n",
    "    else:\n",
    "        print(\"[{}]는 {:.2f}% 확률로 부정 리뷰이지 않을까 추측해 봅니다.^^;\\n\".format(review, (1 - score) * 100))"
   ]
  },
  {
   "cell_type": "markdown",
   "metadata": {},
   "source": [
    "#### 여러가지 한글리뷰를 매개변수로 넣어서 예측할 수 있음"
   ]
  },
  {
   "cell_type": "code",
   "execution_count": 27,
   "metadata": {},
   "outputs": [
    {
     "name": "stdout",
     "output_type": "stream",
     "text": [
      "[올해 최고의 영화! 세 번 넘게 봐도 질리지가 않네요.]는 99.07% 확률로 긍정 리뷰이지 않을까 추측해 봅니다.^^\n",
      "\n",
      "[배경 음악이 영화의 분위기랑 너무 안 맞았습니다. 몰입에 방해가 됩니다.]는 61.85% 확률로 긍정 리뷰이지 않을까 추측해 봅니다.^^\n",
      "\n",
      "[주연 배우가 신인인데 연기를 진짜 잘 하네요. 몰입감 ㅎㄷㄷ]는 98.88% 확률로 긍정 리뷰이지 않을까 추측해 봅니다.^^\n",
      "\n",
      "[믿고 보는 감독이지만 이번에는 아니네요]는 56.17% 확률로 긍정 리뷰이지 않을까 추측해 봅니다.^^\n",
      "\n",
      "[주연배우 때문에 봤어요]는 91.61% 확률로 부정 리뷰이지 않을까 추측해 봅니다.^^;\n",
      "\n"
     ]
    }
   ],
   "source": [
    "predict_pos_neg(\"올해 최고의 영화! 세 번 넘게 봐도 질리지가 않네요.\")\n",
    "\n",
    "predict_pos_neg(\"배경 음악이 영화의 분위기랑 너무 안 맞았습니다. 몰입에 방해가 됩니다.\")\n",
    "\n",
    "predict_pos_neg(\"주연 배우가 신인인데 연기를 진짜 잘 하네요. 몰입감 ㅎㄷㄷ\")\n",
    "\n",
    "predict_pos_neg(\"믿고 보는 감독이지만 이번에는 아니네요\")\n",
    "\n",
    "predict_pos_neg(\"주연배우 때문에 봤어요\")"
   ]
  },
  {
   "cell_type": "code",
   "execution_count": 28,
   "metadata": {},
   "outputs": [
    {
     "name": "stdout",
     "output_type": "stream",
     "text": [
      "[굿굿굿 또해라또해라 제발 ㅠㅠ]는 99.98% 확률로 긍정 리뷰이지 않을까 추측해 봅니다.^^\n",
      "\n",
      "[제이크 질렌할..넌 대체 못하는 연기가 뭐냐.]는 79.18% 확률로 부정 리뷰이지 않을까 추측해 봅니다.^^;\n",
      "\n",
      "[이 영화보면 브라질 가고싶은 마음이 사라질것이다.]는 98.77% 확률로 긍정 리뷰이지 않을까 추측해 봅니다.^^\n",
      "\n",
      "[내인생에서 84분 날렸다]는 87.89% 확률로 부정 리뷰이지 않을까 추측해 봅니다.^^;\n",
      "\n",
      "[평점이 너무 높아서 웃긴 이 기분 ^^;;]는 97.48% 확률로 부정 리뷰이지 않을까 추측해 봅니다.^^;\n",
      "\n"
     ]
    }
   ],
   "source": [
    "predict_pos_neg(\"굿굿굿 또해라또해라 제발 ㅠㅠ\")\n",
    "\n",
    "predict_pos_neg(\"제이크 질렌할..넌 대체 못하는 연기가 뭐냐.\")\n",
    "\n",
    "predict_pos_neg(\"이 영화보면 브라질 가고싶은 마음이 사라질것이다.\")\n",
    "\n",
    "predict_pos_neg(\"내인생에서 84분 날렸다\")\n",
    "\n",
    "predict_pos_neg(\"평점이 너무 높아서 웃긴 이 기분 ^^;;\")"
   ]
  },
  {
   "cell_type": "code",
   "execution_count": 29,
   "metadata": {},
   "outputs": [
    {
     "name": "stdout",
     "output_type": "stream",
     "text": [
      "[ 자극적이지는 않지만, 깊이 있게 인물의 아픔에 공감하게 만드는 영화. 동시에 나의 아픔을 되돌아보게 하는 영화. 천우희 배우의 섬세한 표정들에서 느껴지는 삶의 무게.]는 100.00% 확률로 긍정 리뷰이지 않을까 추측해 봅니다.^^\n",
      "\n"
     ]
    }
   ],
   "source": [
    "predict_pos_neg(\" 자극적이지는 않지만, 깊이 있게 인물의 아픔에 공감하게 만드는 영화. 동시에 나의 아픔을 되돌아보게 하는 영화. 천우희 배우의 섬세한 표정들에서 느껴지는 삶의 무게.\")"
   ]
  },
  {
   "cell_type": "code",
   "execution_count": 30,
   "metadata": {},
   "outputs": [
    {
     "name": "stdout",
     "output_type": "stream",
     "text": [
      "Model: \"sequential\"\n",
      "_________________________________________________________________\n",
      "Layer (type)                 Output Shape              Param #   \n",
      "=================================================================\n",
      "dense (Dense)                (None, 64)                640064    \n",
      "_________________________________________________________________\n",
      "dense_1 (Dense)              (None, 64)                4160      \n",
      "_________________________________________________________________\n",
      "dense_2 (Dense)              (None, 1)                 65        \n",
      "=================================================================\n",
      "Total params: 644,289\n",
      "Trainable params: 644,289\n",
      "Non-trainable params: 0\n",
      "_________________________________________________________________\n"
     ]
    }
   ],
   "source": [
    "model.summary()"
   ]
  }
 ],
 "metadata": {
  "kernelspec": {
   "display_name": "Python 3",
   "language": "python",
   "name": "python3"
  },
  "language_info": {
   "codemirror_mode": {
    "name": "ipython",
    "version": 3
   },
   "file_extension": ".py",
   "mimetype": "text/x-python",
   "name": "python",
   "nbconvert_exporter": "python",
   "pygments_lexer": "ipython3",
   "version": "3.7.3"
  }
 },
 "nbformat": 4,
 "nbformat_minor": 2
}
